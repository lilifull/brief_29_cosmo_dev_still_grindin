{
 "cells": [
  {
   "cell_type": "markdown",
   "id": "71140804",
   "metadata": {},
   "source": [
    "# Nettoyage du texte"
   ]
  },
  {
   "cell_type": "markdown",
   "id": "5df08d35",
   "metadata": {},
   "source": [
    "## Importation des librairies"
   ]
  },
  {
   "cell_type": "code",
   "execution_count": 19,
   "id": "13faa815",
   "metadata": {},
   "outputs": [],
   "source": [
    "import pandas as pd\n",
    "import nltk\n",
    "import string\n",
    "from nltk.stem import WordNetLemmatizer\n",
    "import numpy as np\n",
    "import re\n",
    "from sklearn import preprocessing\n",
    "from seaborn import countplot"
   ]
  },
  {
   "cell_type": "code",
   "execution_count": 2,
   "id": "cf8b10cc",
   "metadata": {},
   "outputs": [
    {
     "name": "stderr",
     "output_type": "stream",
     "text": [
      "[nltk_data] Downloading package stopwords to\n",
      "[nltk_data]     /Users/justinelv/nltk_data...\n",
      "[nltk_data]   Package stopwords is already up-to-date!\n",
      "[nltk_data] Downloading package punkt to /Users/justinelv/nltk_data...\n",
      "[nltk_data]   Package punkt is already up-to-date!\n",
      "[nltk_data] Downloading package words to /Users/justinelv/nltk_data...\n",
      "[nltk_data]   Package words is already up-to-date!\n",
      "[nltk_data] Downloading package wordnet to\n",
      "[nltk_data]     /Users/justinelv/nltk_data...\n",
      "[nltk_data]   Package wordnet is already up-to-date!\n"
     ]
    },
    {
     "data": {
      "text/plain": [
       "True"
      ]
     },
     "execution_count": 2,
     "metadata": {},
     "output_type": "execute_result"
    }
   ],
   "source": [
    "nltk.download('stopwords')\n",
    "nltk.download('punkt')\n",
    "nltk.download('words')\n",
    "nltk.download('wordnet')"
   ]
  },
  {
   "cell_type": "markdown",
   "id": "3a289636",
   "metadata": {},
   "source": [
    "## Chargement des données "
   ]
  },
  {
   "cell_type": "code",
   "execution_count": 3,
   "id": "ca3e38a4",
   "metadata": {},
   "outputs": [],
   "source": [
    "pd.options.display.max_rows = 10\n",
    "pd.options.display.max_columns = 10\n",
    "pd.options.display.max_colwidth = 50\n",
    "\n",
    "df = pd.read_csv('./csv/cleaned.csv')"
   ]
  },
  {
   "cell_type": "code",
   "execution_count": 4,
   "id": "a7e8890f",
   "metadata": {},
   "outputs": [
    {
     "data": {
      "text/html": [
       "<div>\n",
       "<style scoped>\n",
       "    .dataframe tbody tr th:only-of-type {\n",
       "        vertical-align: middle;\n",
       "    }\n",
       "\n",
       "    .dataframe tbody tr th {\n",
       "        vertical-align: top;\n",
       "    }\n",
       "\n",
       "    .dataframe thead th {\n",
       "        text-align: right;\n",
       "    }\n",
       "</style>\n",
       "<table border=\"1\" class=\"dataframe\">\n",
       "  <thead>\n",
       "    <tr style=\"text-align: right;\">\n",
       "      <th></th>\n",
       "      <th>uniq_id</th>\n",
       "      <th>crawl_timestamp</th>\n",
       "      <th>product_url</th>\n",
       "      <th>product_name</th>\n",
       "      <th>product_category_tree</th>\n",
       "      <th>...</th>\n",
       "      <th>description</th>\n",
       "      <th>product_rating</th>\n",
       "      <th>overall_rating</th>\n",
       "      <th>brand</th>\n",
       "      <th>product_specifications</th>\n",
       "    </tr>\n",
       "  </thead>\n",
       "  <tbody>\n",
       "    <tr>\n",
       "      <th>0</th>\n",
       "      <td>55b85ea15a1536d46b7190ad6fff8ce7</td>\n",
       "      <td>2016-04-30 03:22:56 +0000</td>\n",
       "      <td>http://www.flipkart.com/elegance-polyester-mul...</td>\n",
       "      <td>Elegance Polyester Multicolor Abstract Eyelet ...</td>\n",
       "      <td>[\"Home Furnishing &gt;&gt; Curtains &amp; Accessories &gt;&gt;...</td>\n",
       "      <td>...</td>\n",
       "      <td>Key Features of Elegance Polyester Multicolor ...</td>\n",
       "      <td>No rating available</td>\n",
       "      <td>No rating available</td>\n",
       "      <td>Elegance</td>\n",
       "      <td>{\"product_specification\"=&gt;[{\"key\"=&gt;\"Brand\", \"v...</td>\n",
       "    </tr>\n",
       "    <tr>\n",
       "      <th>1</th>\n",
       "      <td>7b72c92c2f6c40268628ec5f14c6d590</td>\n",
       "      <td>2016-04-30 03:22:56 +0000</td>\n",
       "      <td>http://www.flipkart.com/sathiyas-cotton-bath-t...</td>\n",
       "      <td>Sathiyas Cotton Bath Towel</td>\n",
       "      <td>[\"Baby Care &gt;&gt; Baby Bath &amp; Skin &gt;&gt; Baby Bath T...</td>\n",
       "      <td>...</td>\n",
       "      <td>Specifications of Sathiyas Cotton Bath Towel (...</td>\n",
       "      <td>No rating available</td>\n",
       "      <td>No rating available</td>\n",
       "      <td>Sathiyas</td>\n",
       "      <td>{\"product_specification\"=&gt;[{\"key\"=&gt;\"Machine Wa...</td>\n",
       "    </tr>\n",
       "    <tr>\n",
       "      <th>2</th>\n",
       "      <td>64d5d4a258243731dc7bbb1eef49ad74</td>\n",
       "      <td>2016-04-30 03:22:56 +0000</td>\n",
       "      <td>http://www.flipkart.com/eurospa-cotton-terry-f...</td>\n",
       "      <td>Eurospa Cotton Terry Face Towel Set</td>\n",
       "      <td>[\"Baby Care &gt;&gt; Baby Bath &amp; Skin &gt;&gt; Baby Bath T...</td>\n",
       "      <td>...</td>\n",
       "      <td>Key Features of Eurospa Cotton Terry Face Towe...</td>\n",
       "      <td>No rating available</td>\n",
       "      <td>No rating available</td>\n",
       "      <td>Eurospa</td>\n",
       "      <td>{\"product_specification\"=&gt;[{\"key\"=&gt;\"Material\",...</td>\n",
       "    </tr>\n",
       "  </tbody>\n",
       "</table>\n",
       "<p>3 rows × 15 columns</p>\n",
       "</div>"
      ],
      "text/plain": [
       "                            uniq_id            crawl_timestamp  \\\n",
       "0  55b85ea15a1536d46b7190ad6fff8ce7  2016-04-30 03:22:56 +0000   \n",
       "1  7b72c92c2f6c40268628ec5f14c6d590  2016-04-30 03:22:56 +0000   \n",
       "2  64d5d4a258243731dc7bbb1eef49ad74  2016-04-30 03:22:56 +0000   \n",
       "\n",
       "                                         product_url  \\\n",
       "0  http://www.flipkart.com/elegance-polyester-mul...   \n",
       "1  http://www.flipkart.com/sathiyas-cotton-bath-t...   \n",
       "2  http://www.flipkart.com/eurospa-cotton-terry-f...   \n",
       "\n",
       "                                        product_name  \\\n",
       "0  Elegance Polyester Multicolor Abstract Eyelet ...   \n",
       "1                         Sathiyas Cotton Bath Towel   \n",
       "2                Eurospa Cotton Terry Face Towel Set   \n",
       "\n",
       "                               product_category_tree  ...  \\\n",
       "0  [\"Home Furnishing >> Curtains & Accessories >>...  ...   \n",
       "1  [\"Baby Care >> Baby Bath & Skin >> Baby Bath T...  ...   \n",
       "2  [\"Baby Care >> Baby Bath & Skin >> Baby Bath T...  ...   \n",
       "\n",
       "                                         description       product_rating  \\\n",
       "0  Key Features of Elegance Polyester Multicolor ...  No rating available   \n",
       "1  Specifications of Sathiyas Cotton Bath Towel (...  No rating available   \n",
       "2  Key Features of Eurospa Cotton Terry Face Towe...  No rating available   \n",
       "\n",
       "        overall_rating     brand  \\\n",
       "0  No rating available  Elegance   \n",
       "1  No rating available  Sathiyas   \n",
       "2  No rating available   Eurospa   \n",
       "\n",
       "                              product_specifications  \n",
       "0  {\"product_specification\"=>[{\"key\"=>\"Brand\", \"v...  \n",
       "1  {\"product_specification\"=>[{\"key\"=>\"Machine Wa...  \n",
       "2  {\"product_specification\"=>[{\"key\"=>\"Material\",...  \n",
       "\n",
       "[3 rows x 15 columns]"
      ]
     },
     "execution_count": 4,
     "metadata": {},
     "output_type": "execute_result"
    }
   ],
   "source": [
    "df.head(3)"
   ]
  },
  {
   "cell_type": "code",
   "execution_count": 5,
   "id": "838620c9",
   "metadata": {},
   "outputs": [
    {
     "name": "stdout",
     "output_type": "stream",
     "text": [
      "<class 'pandas.core.frame.DataFrame'>\n",
      "RangeIndex: 1050 entries, 0 to 1049\n",
      "Data columns (total 15 columns):\n",
      " #   Column                   Non-Null Count  Dtype  \n",
      "---  ------                   --------------  -----  \n",
      " 0   uniq_id                  1050 non-null   object \n",
      " 1   crawl_timestamp          1050 non-null   object \n",
      " 2   product_url              1050 non-null   object \n",
      " 3   product_name             1050 non-null   object \n",
      " 4   product_category_tree    1050 non-null   object \n",
      " 5   pid                      1050 non-null   object \n",
      " 6   retail_price             1049 non-null   float64\n",
      " 7   discounted_price         1049 non-null   float64\n",
      " 8   image                    1050 non-null   object \n",
      " 9   is_FK_Advantage_product  1050 non-null   bool   \n",
      " 10  description              1050 non-null   object \n",
      " 11  product_rating           1050 non-null   object \n",
      " 12  overall_rating           1050 non-null   object \n",
      " 13  brand                    712 non-null    object \n",
      " 14  product_specifications   1049 non-null   object \n",
      "dtypes: bool(1), float64(2), object(12)\n",
      "memory usage: 116.0+ KB\n"
     ]
    }
   ],
   "source": [
    "df.info()"
   ]
  },
  {
   "cell_type": "markdown",
   "id": "022c7866",
   "metadata": {},
   "source": [
    "## Sélection des colonnes utiles"
   ]
  },
  {
   "cell_type": "code",
   "execution_count": 6,
   "id": "c052ca5a",
   "metadata": {},
   "outputs": [
    {
     "data": {
      "text/html": [
       "<div>\n",
       "<style scoped>\n",
       "    .dataframe tbody tr th:only-of-type {\n",
       "        vertical-align: middle;\n",
       "    }\n",
       "\n",
       "    .dataframe tbody tr th {\n",
       "        vertical-align: top;\n",
       "    }\n",
       "\n",
       "    .dataframe thead th {\n",
       "        text-align: right;\n",
       "    }\n",
       "</style>\n",
       "<table border=\"1\" class=\"dataframe\">\n",
       "  <thead>\n",
       "    <tr style=\"text-align: right;\">\n",
       "      <th></th>\n",
       "      <th>uniq_id</th>\n",
       "      <th>product_name</th>\n",
       "      <th>description</th>\n",
       "      <th>product_category_tree</th>\n",
       "    </tr>\n",
       "  </thead>\n",
       "  <tbody>\n",
       "    <tr>\n",
       "      <th>0</th>\n",
       "      <td>55b85ea15a1536d46b7190ad6fff8ce7</td>\n",
       "      <td>Elegance Polyester Multicolor Abstract Eyelet ...</td>\n",
       "      <td>Key Features of Elegance Polyester Multicolor ...</td>\n",
       "      <td>[\"Home Furnishing &gt;&gt; Curtains &amp; Accessories &gt;&gt;...</td>\n",
       "    </tr>\n",
       "  </tbody>\n",
       "</table>\n",
       "</div>"
      ],
      "text/plain": [
       "                            uniq_id  \\\n",
       "0  55b85ea15a1536d46b7190ad6fff8ce7   \n",
       "\n",
       "                                        product_name  \\\n",
       "0  Elegance Polyester Multicolor Abstract Eyelet ...   \n",
       "\n",
       "                                         description  \\\n",
       "0  Key Features of Elegance Polyester Multicolor ...   \n",
       "\n",
       "                               product_category_tree  \n",
       "0  [\"Home Furnishing >> Curtains & Accessories >>...  "
      ]
     },
     "execution_count": 6,
     "metadata": {},
     "output_type": "execute_result"
    }
   ],
   "source": [
    "df_process = df[['uniq_id','product_name','description','product_category_tree']].copy()\n",
    "df_process.head(1)"
   ]
  },
  {
   "cell_type": "markdown",
   "id": "032fa125",
   "metadata": {},
   "source": [
    "## Nettoyage des données textes"
   ]
  },
  {
   "cell_type": "markdown",
   "id": "f7593d68",
   "metadata": {},
   "source": [
    "### Fonction pour nettoyer les données "
   ]
  },
  {
   "cell_type": "code",
   "execution_count": 7,
   "id": "23641a88",
   "metadata": {},
   "outputs": [],
   "source": [
    "# pour enlever la ponctuation\n",
    "ponctuations = string.punctuation + '�' + '°' + '…' + '±' + '•' + '’' + '–' + '“' + '”' \n",
    "# stopwords, ce sont les mots qui apparaissent très fréquemment mais qui n’apporte pas de sens à la phrase (comme « de », « le », « une »)\n",
    "stopwords = nltk.corpus.stopwords.words('english')\n",
    "stopwords_custom = stopwords\n",
    "stopwords_custom.append('yes')\n",
    "# mots (words) qui proviennent d’un dictionnaire anglais (directement intégré à la librairie nltk)\n",
    "words = set(nltk.corpus.words.words())\n",
    "# un lemmatizer, cette objet nous permet de préserver la racine des mots de tel sorte que deux mots ayant une même souche seront considérés comme un seul et même mot \n",
    "lemmatizer = WordNetLemmatizer()"
   ]
  },
  {
   "cell_type": "code",
   "execution_count": 8,
   "id": "8185a1ee",
   "metadata": {},
   "outputs": [],
   "source": [
    "def text_prepocessing(df):\n",
    "    \n",
    "    preprocess_list = []\n",
    "    \n",
    "    for sentence in df :\n",
    "        \n",
    "        sentence_w_punct = \"\".join([i.lower() for i in sentence if i not in ponctuations])\n",
    "\n",
    "        sentence_w_num = ''.join(i for i in sentence_w_punct if not i.isdigit())\n",
    "\n",
    "        tokenize_sentence = nltk.tokenize.word_tokenize(sentence_w_num)\n",
    "\n",
    "        words_w_stopwords = [i for i in tokenize_sentence if i not in stopwords_custom]\n",
    "\n",
    "        words_lemmatize = (lemmatizer.lemmatize(w) for w in words_w_stopwords)\n",
    "\n",
    "        sentence_clean = ' '.join(w for w in words_lemmatize if w.lower() in words or not w.isalpha())\n",
    "        \n",
    "        remove_one_two_letters_word = re.sub(r'\\b[a-zA-Z]{1,2}(?=\\s|$)','',sentence_clean)\n",
    "        \n",
    "        preprocess_list.append(remove_one_two_letters_word)\n",
    "        \n",
    "    return preprocess_list "
   ]
  },
  {
   "cell_type": "code",
   "execution_count": 9,
   "id": "40ff34e9",
   "metadata": {},
   "outputs": [],
   "source": [
    "def text_prepocessing_product_name(df):\n",
    "    \n",
    "    preprocess_list = []\n",
    "    \n",
    "    for sentence in df :\n",
    "        \n",
    "        sentence_w_punct = \"\".join([i.lower() for i in sentence if i not in ponctuations])\n",
    "\n",
    "        sentence_w_num = ''.join(i for i in sentence_w_punct if not i.isdigit())\n",
    "\n",
    "        tokenize_sentence = nltk.tokenize.word_tokenize(sentence_w_num)\n",
    "\n",
    "        words_w_stopwords = [i for i in tokenize_sentence if i not in stopwords_custom]\n",
    "\n",
    "        words_lemmatize = (lemmatizer.lemmatize(w) for w in words_w_stopwords)\n",
    "\n",
    "        sentence_clean = ' '.join(w for w in words_lemmatize)\n",
    "        \n",
    "        remove_one_two_letters_word = re.sub(r'\\b[a-zA-Z]{1,2}(?=\\s|$)','',sentence_clean)\n",
    "        \n",
    "        preprocess_list.append(remove_one_two_letters_word)\n",
    "        \n",
    "    return preprocess_list "
   ]
  },
  {
   "cell_type": "markdown",
   "id": "dd0bad07",
   "metadata": {},
   "source": [
    "Le product name est nettoyer avec une fonction légèrement différente, les motes ne doivent pas faire partie de la liste words car certain mot n'y sont pas et cela crée des lignes vide."
   ]
  },
  {
   "cell_type": "markdown",
   "id": "63218f2a",
   "metadata": {},
   "source": [
    "### Nettoyage de la colonne description"
   ]
  },
  {
   "cell_type": "code",
   "execution_count": 10,
   "id": "47f79075",
   "metadata": {},
   "outputs": [],
   "source": [
    "description_clean = text_prepocessing(df_process['description'])"
   ]
  },
  {
   "cell_type": "code",
   "execution_count": 11,
   "id": "4da0ea06",
   "metadata": {},
   "outputs": [
    {
     "data": {
      "text/plain": [
       "'key feature elegance polyester multicolor abstract eyelet door curtain floral polyester multicolor abstract eyelet door curtain height pack price  curtain look curtain made high quality polyester feature eyelet style stitch metal make room environment romantic curtain ant wrinkle anti shrinkage elegant home bright modernistic appeal design attention sure steal heart contemporary eyelet valance curtain slide smoothly draw apart first thing morning welcome bright sun ray want wish good morning whole world draw close evening create special moment joyous beauty given soothing print bring home elegant curtain softly filter light room get right amount elegance polyester multicolor abstract eyelet door curtain height pack general brand elegance designed door type eyelet model name abstract polyester door curtain set model  duster color multicolor dimension length box number content sale package pack sale package curtain body design material polyester'"
      ]
     },
     "execution_count": 11,
     "metadata": {},
     "output_type": "execute_result"
    }
   ],
   "source": [
    "df_process['description_clean'] = description_clean\n",
    "df_process['description_clean'][0]"
   ]
  },
  {
   "cell_type": "markdown",
   "id": "8a1c9f47",
   "metadata": {},
   "source": [
    "### Nettoyage de la colonne product_name"
   ]
  },
  {
   "cell_type": "code",
   "execution_count": 12,
   "id": "748f87df",
   "metadata": {},
   "outputs": [],
   "source": [
    "product_name_clean = text_prepocessing_product_name(df_process['product_name'])"
   ]
  },
  {
   "cell_type": "code",
   "execution_count": 13,
   "id": "0f0b3ed2",
   "metadata": {},
   "outputs": [
    {
     "data": {
      "text/plain": [
       "'elegance polyester multicolor abstract eyelet door curtain'"
      ]
     },
     "execution_count": 13,
     "metadata": {},
     "output_type": "execute_result"
    }
   ],
   "source": [
    "df_process['product_name_clean'] = product_name_clean\n",
    "df_process['product_name_clean'][0]"
   ]
  },
  {
   "cell_type": "markdown",
   "id": "47fff912",
   "metadata": {},
   "source": [
    "### Création des labels"
   ]
  },
  {
   "cell_type": "markdown",
   "id": "b83108c4",
   "metadata": {},
   "source": [
    "Pour extraire les catégories du la colonne 'product_category_tree', j'ai testé de prendre la première catégorie et la sous catégorie pour voir si il y en avait une mieux que l'autre pour réprésenter nos groupes de produits."
   ]
  },
  {
   "cell_type": "code",
   "execution_count": 14,
   "id": "84384d9e",
   "metadata": {},
   "outputs": [
    {
     "data": {
      "text/plain": [
       "'Home Furnishing'"
      ]
     },
     "execution_count": 14,
     "metadata": {},
     "output_type": "execute_result"
    }
   ],
   "source": [
    "# définir une fonction lambda pour extraire la catégorie principale\n",
    "extract_category = lambda x: x.split(\">>\")[0].strip().strip('][\"')\n",
    "\n",
    "# appliquer la fonction à la colonne 'product_category_tree' du DataFrame\n",
    "df_process['main_category'] = df_process['product_category_tree'].apply(extract_category)\n",
    "df_process['main_category'][0]"
   ]
  },
  {
   "cell_type": "code",
   "execution_count": 15,
   "id": "d10bf628",
   "metadata": {},
   "outputs": [
    {
     "data": {
      "text/plain": [
       "'Curtains & Accessories'"
      ]
     },
     "execution_count": 15,
     "metadata": {},
     "output_type": "execute_result"
    }
   ],
   "source": [
    "# définir une fonction lambda pour extraire la sous-catégorie\n",
    "extract_sub_category = lambda x: x.split(\">>\")[1].strip(' \"').strip(' \"]\\'')\n",
    "\n",
    "# appliquer la fonction à la colonne 'product_category_tree' du DataFrame\n",
    "df_process['sub_category'] = df_process['product_category_tree'].apply(extract_sub_category)\n",
    "df_process['sub_category'][0]"
   ]
  },
  {
   "cell_type": "code",
   "execution_count": 16,
   "id": "ea270808",
   "metadata": {},
   "outputs": [
    {
     "data": {
      "text/plain": [
       "Text(0.5, 1.0, 'Data Distribution')"
      ]
     },
     "execution_count": 16,
     "metadata": {},
     "output_type": "execute_result"
    },
    {
     "data": {
      "image/png": "[encoded data removed]",
      "text/plain": [
       "<Figure size 640x480 with 1 Axes>"
      ]
     },
     "metadata": {},
     "output_type": "display_data"
    }
   ],
   "source": [
    "countplot(x='main_category',data=df_process).set_title(\"Data Distribution\")"
   ]
  },
  {
   "cell_type": "code",
   "execution_count": 17,
   "id": "3d0d3743",
   "metadata": {},
   "outputs": [
    {
     "data": {
      "text/plain": [
       "Text(0.5, 1.0, 'Data Distribution')"
      ]
     },
     "execution_count": 17,
     "metadata": {},
     "output_type": "execute_result"
    },
    {
     "data": {
      "image/png": "[encoded data removed]",
      "text/plain": [
       "<Figure size 640x480 with 1 Axes>"
      ]
     },
     "metadata": {},
     "output_type": "display_data"
    }
   ],
   "source": [
    "countplot(x='sub_category',data=df_process).set_title(\"Data Distribution\")"
   ]
  },
  {
   "cell_type": "markdown",
   "id": "7810ad96",
   "metadata": {},
   "source": [
    "Les catégories représentées dans la colonne main_category sont mieux réparties que les cotégories de la colonne sub_category. La colonne main_category sera donc choisit pour être le label."
   ]
  },
  {
   "cell_type": "code",
   "execution_count": 20,
   "id": "b28e28e9",
   "metadata": {},
   "outputs": [
    {
     "data": {
      "text/html": [
       "<div>\n",
       "<style scoped>\n",
       "    .dataframe tbody tr th:only-of-type {\n",
       "        vertical-align: middle;\n",
       "    }\n",
       "\n",
       "    .dataframe tbody tr th {\n",
       "        vertical-align: top;\n",
       "    }\n",
       "\n",
       "    .dataframe thead th {\n",
       "        text-align: right;\n",
       "    }\n",
       "</style>\n",
       "<table border=\"1\" class=\"dataframe\">\n",
       "  <thead>\n",
       "    <tr style=\"text-align: right;\">\n",
       "      <th></th>\n",
       "      <th>uniq_id</th>\n",
       "      <th>product_name</th>\n",
       "      <th>description</th>\n",
       "      <th>product_category_tree</th>\n",
       "      <th>description_clean</th>\n",
       "      <th>product_name_clean</th>\n",
       "      <th>main_category</th>\n",
       "      <th>sub_category</th>\n",
       "      <th>main_category_num</th>\n",
       "    </tr>\n",
       "  </thead>\n",
       "  <tbody>\n",
       "    <tr>\n",
       "      <th>0</th>\n",
       "      <td>55b85ea15a1536d46b7190ad6fff8ce7</td>\n",
       "      <td>Elegance Polyester Multicolor Abstract Eyelet ...</td>\n",
       "      <td>Key Features of Elegance Polyester Multicolor ...</td>\n",
       "      <td>[\"Home Furnishing &gt;&gt; Curtains &amp; Accessories &gt;&gt;...</td>\n",
       "      <td>key feature elegance polyester multicolor abst...</td>\n",
       "      <td>elegance polyester multicolor abstract eyelet ...</td>\n",
       "      <td>Home Furnishing</td>\n",
       "      <td>Curtains &amp; Accessories</td>\n",
       "      <td>4</td>\n",
       "    </tr>\n",
       "    <tr>\n",
       "      <th>1</th>\n",
       "      <td>7b72c92c2f6c40268628ec5f14c6d590</td>\n",
       "      <td>Sathiyas Cotton Bath Towel</td>\n",
       "      <td>Specifications of Sathiyas Cotton Bath Towel (...</td>\n",
       "      <td>[\"Baby Care &gt;&gt; Baby Bath &amp; Skin &gt;&gt; Baby Bath T...</td>\n",
       "      <td>specification cotton bath towel bath towel red...</td>\n",
       "      <td>sathiyas cotton bath towel</td>\n",
       "      <td>Baby Care</td>\n",
       "      <td>Baby Bath &amp; Skin</td>\n",
       "      <td>0</td>\n",
       "    </tr>\n",
       "    <tr>\n",
       "      <th>2</th>\n",
       "      <td>64d5d4a258243731dc7bbb1eef49ad74</td>\n",
       "      <td>Eurospa Cotton Terry Face Towel Set</td>\n",
       "      <td>Key Features of Eurospa Cotton Terry Face Towe...</td>\n",
       "      <td>[\"Baby Care &gt;&gt; Baby Bath &amp; Skin &gt;&gt; Baby Bath T...</td>\n",
       "      <td>key feature cotton terry face towel set size s...</td>\n",
       "      <td>eurospa cotton terry face towel set</td>\n",
       "      <td>Baby Care</td>\n",
       "      <td>Baby Bath &amp; Skin</td>\n",
       "      <td>0</td>\n",
       "    </tr>\n",
       "    <tr>\n",
       "      <th>3</th>\n",
       "      <td>d4684dcdc759dd9cdf41504698d737d8</td>\n",
       "      <td>SANTOSH ROYAL FASHION Cotton Printed King size...</td>\n",
       "      <td>Key Features of SANTOSH ROYAL FASHION Cotton P...</td>\n",
       "      <td>[\"Home Furnishing &gt;&gt; Bed Linen &gt;&gt; Bedsheets &gt;&gt;...</td>\n",
       "      <td>key feature royal fashion cotton printed king ...</td>\n",
       "      <td>santosh royal fashion cotton printed king size...</td>\n",
       "      <td>Home Furnishing</td>\n",
       "      <td>Bed Linen</td>\n",
       "      <td>4</td>\n",
       "    </tr>\n",
       "    <tr>\n",
       "      <th>4</th>\n",
       "      <td>6325b6870c54cd47be6ebfbffa620ec7</td>\n",
       "      <td>Jaipur Print Cotton Floral King sized Double B...</td>\n",
       "      <td>Key Features of Jaipur Print Cotton Floral Kin...</td>\n",
       "      <td>[\"Home Furnishing &gt;&gt; Bed Linen &gt;&gt; Bedsheets &gt;&gt;...</td>\n",
       "      <td>key feature print cotton floral king sized dou...</td>\n",
       "      <td>jaipur print cotton floral king sized double b...</td>\n",
       "      <td>Home Furnishing</td>\n",
       "      <td>Bed Linen</td>\n",
       "      <td>4</td>\n",
       "    </tr>\n",
       "    <tr>\n",
       "      <th>...</th>\n",
       "      <td>...</td>\n",
       "      <td>...</td>\n",
       "      <td>...</td>\n",
       "      <td>...</td>\n",
       "      <td>...</td>\n",
       "      <td>...</td>\n",
       "      <td>...</td>\n",
       "      <td>...</td>\n",
       "      <td>...</td>\n",
       "    </tr>\n",
       "    <tr>\n",
       "      <th>1045</th>\n",
       "      <td>958f54f4c46b53c8a0a9b8167d9140bc</td>\n",
       "      <td>Oren Empower Extra Large Self Adhesive Sticker</td>\n",
       "      <td>Oren Empower Extra Large Self Adhesive Sticker...</td>\n",
       "      <td>[\"Baby Care &gt;&gt; Baby &amp; Kids Gifts &gt;&gt; Stickers &gt;...</td>\n",
       "      <td>empower extra large self adhesive sticker pack...</td>\n",
       "      <td>oren empower extra large self adhesive sticker</td>\n",
       "      <td>Baby Care</td>\n",
       "      <td>Baby &amp; Kids Gifts</td>\n",
       "      <td>0</td>\n",
       "    </tr>\n",
       "    <tr>\n",
       "      <th>1046</th>\n",
       "      <td>fd6cbcc22efb6b761bd564c28928483c</td>\n",
       "      <td>Wallmantra Large Vinyl Sticker Sticker</td>\n",
       "      <td>Wallmantra Large Vinyl Sticker Sticker (Pack o...</td>\n",
       "      <td>[\"Baby Care &gt;&gt; Baby &amp; Kids Gifts &gt;&gt; Stickers &gt;...</td>\n",
       "      <td>large vinyl sticker sticker pack price  bring ...</td>\n",
       "      <td>wallmantra large vinyl sticker sticker</td>\n",
       "      <td>Baby Care</td>\n",
       "      <td>Baby &amp; Kids Gifts</td>\n",
       "      <td>0</td>\n",
       "    </tr>\n",
       "    <tr>\n",
       "      <th>1047</th>\n",
       "      <td>5912e037d12774bb73a2048f35a00009</td>\n",
       "      <td>Uberlyfe Extra Large Pigmented Polyvinyl Films...</td>\n",
       "      <td>Buy Uberlyfe Extra Large Pigmented Polyvinyl F...</td>\n",
       "      <td>[\"Baby Care &gt;&gt; Baby &amp; Kids Gifts &gt;&gt; Stickers &gt;...</td>\n",
       "      <td>buy extra large polyvinyl film sticker  extra ...</td>\n",
       "      <td>uberlyfe extra large pigmented polyvinyl film ...</td>\n",
       "      <td>Baby Care</td>\n",
       "      <td>Baby &amp; Kids Gifts</td>\n",
       "      <td>0</td>\n",
       "    </tr>\n",
       "    <tr>\n",
       "      <th>1048</th>\n",
       "      <td>c3edc504d1b4f0ba6224fa53a43a7ad6</td>\n",
       "      <td>Wallmantra Medium Vinyl Sticker Sticker</td>\n",
       "      <td>Buy Wallmantra Medium Vinyl Sticker Sticker fo...</td>\n",
       "      <td>[\"Baby Care &gt;&gt; Baby &amp; Kids Gifts &gt;&gt; Stickers &gt;...</td>\n",
       "      <td>buy medium vinyl sticker sticker  medium vinyl...</td>\n",
       "      <td>wallmantra medium vinyl sticker sticker</td>\n",
       "      <td>Baby Care</td>\n",
       "      <td>Baby &amp; Kids Gifts</td>\n",
       "      <td>0</td>\n",
       "    </tr>\n",
       "    <tr>\n",
       "      <th>1049</th>\n",
       "      <td>f2f027ad6a6df617c9f125173da71e44</td>\n",
       "      <td>Uberlyfe Large Vinyl Sticker</td>\n",
       "      <td>Buy Uberlyfe Large Vinyl Sticker for Rs.595 on...</td>\n",
       "      <td>[\"Baby Care &gt;&gt; Baby &amp; Kids Gifts &gt;&gt; Stickers &gt;...</td>\n",
       "      <td>buy large vinyl sticker  large vinyl sticker b...</td>\n",
       "      <td>uberlyfe large vinyl sticker</td>\n",
       "      <td>Baby Care</td>\n",
       "      <td>Baby &amp; Kids Gifts</td>\n",
       "      <td>0</td>\n",
       "    </tr>\n",
       "  </tbody>\n",
       "</table>\n",
       "<p>1050 rows × 9 columns</p>\n",
       "</div>"
      ],
      "text/plain": [
       "                               uniq_id  \\\n",
       "0     55b85ea15a1536d46b7190ad6fff8ce7   \n",
       "1     7b72c92c2f6c40268628ec5f14c6d590   \n",
       "2     64d5d4a258243731dc7bbb1eef49ad74   \n",
       "3     d4684dcdc759dd9cdf41504698d737d8   \n",
       "4     6325b6870c54cd47be6ebfbffa620ec7   \n",
       "...                                ...   \n",
       "1045  958f54f4c46b53c8a0a9b8167d9140bc   \n",
       "1046  fd6cbcc22efb6b761bd564c28928483c   \n",
       "1047  5912e037d12774bb73a2048f35a00009   \n",
       "1048  c3edc504d1b4f0ba6224fa53a43a7ad6   \n",
       "1049  f2f027ad6a6df617c9f125173da71e44   \n",
       "\n",
       "                                           product_name  \\\n",
       "0     Elegance Polyester Multicolor Abstract Eyelet ...   \n",
       "1                            Sathiyas Cotton Bath Towel   \n",
       "2                   Eurospa Cotton Terry Face Towel Set   \n",
       "3     SANTOSH ROYAL FASHION Cotton Printed King size...   \n",
       "4     Jaipur Print Cotton Floral King sized Double B...   \n",
       "...                                                 ...   \n",
       "1045     Oren Empower Extra Large Self Adhesive Sticker   \n",
       "1046             Wallmantra Large Vinyl Sticker Sticker   \n",
       "1047  Uberlyfe Extra Large Pigmented Polyvinyl Films...   \n",
       "1048            Wallmantra Medium Vinyl Sticker Sticker   \n",
       "1049                       Uberlyfe Large Vinyl Sticker   \n",
       "\n",
       "                                            description  \\\n",
       "0     Key Features of Elegance Polyester Multicolor ...   \n",
       "1     Specifications of Sathiyas Cotton Bath Towel (...   \n",
       "2     Key Features of Eurospa Cotton Terry Face Towe...   \n",
       "3     Key Features of SANTOSH ROYAL FASHION Cotton P...   \n",
       "4     Key Features of Jaipur Print Cotton Floral Kin...   \n",
       "...                                                 ...   \n",
       "1045  Oren Empower Extra Large Self Adhesive Sticker...   \n",
       "1046  Wallmantra Large Vinyl Sticker Sticker (Pack o...   \n",
       "1047  Buy Uberlyfe Extra Large Pigmented Polyvinyl F...   \n",
       "1048  Buy Wallmantra Medium Vinyl Sticker Sticker fo...   \n",
       "1049  Buy Uberlyfe Large Vinyl Sticker for Rs.595 on...   \n",
       "\n",
       "                                  product_category_tree  \\\n",
       "0     [\"Home Furnishing >> Curtains & Accessories >>...   \n",
       "1     [\"Baby Care >> Baby Bath & Skin >> Baby Bath T...   \n",
       "2     [\"Baby Care >> Baby Bath & Skin >> Baby Bath T...   \n",
       "3     [\"Home Furnishing >> Bed Linen >> Bedsheets >>...   \n",
       "4     [\"Home Furnishing >> Bed Linen >> Bedsheets >>...   \n",
       "...                                                 ...   \n",
       "1045  [\"Baby Care >> Baby & Kids Gifts >> Stickers >...   \n",
       "1046  [\"Baby Care >> Baby & Kids Gifts >> Stickers >...   \n",
       "1047  [\"Baby Care >> Baby & Kids Gifts >> Stickers >...   \n",
       "1048  [\"Baby Care >> Baby & Kids Gifts >> Stickers >...   \n",
       "1049  [\"Baby Care >> Baby & Kids Gifts >> Stickers >...   \n",
       "\n",
       "                                      description_clean  \\\n",
       "0     key feature elegance polyester multicolor abst...   \n",
       "1     specification cotton bath towel bath towel red...   \n",
       "2     key feature cotton terry face towel set size s...   \n",
       "3     key feature royal fashion cotton printed king ...   \n",
       "4     key feature print cotton floral king sized dou...   \n",
       "...                                                 ...   \n",
       "1045  empower extra large self adhesive sticker pack...   \n",
       "1046  large vinyl sticker sticker pack price  bring ...   \n",
       "1047  buy extra large polyvinyl film sticker  extra ...   \n",
       "1048  buy medium vinyl sticker sticker  medium vinyl...   \n",
       "1049  buy large vinyl sticker  large vinyl sticker b...   \n",
       "\n",
       "                                     product_name_clean    main_category  \\\n",
       "0     elegance polyester multicolor abstract eyelet ...  Home Furnishing   \n",
       "1                            sathiyas cotton bath towel        Baby Care   \n",
       "2                   eurospa cotton terry face towel set        Baby Care   \n",
       "3     santosh royal fashion cotton printed king size...  Home Furnishing   \n",
       "4     jaipur print cotton floral king sized double b...  Home Furnishing   \n",
       "...                                                 ...              ...   \n",
       "1045     oren empower extra large self adhesive sticker        Baby Care   \n",
       "1046             wallmantra large vinyl sticker sticker        Baby Care   \n",
       "1047  uberlyfe extra large pigmented polyvinyl film ...        Baby Care   \n",
       "1048            wallmantra medium vinyl sticker sticker        Baby Care   \n",
       "1049                       uberlyfe large vinyl sticker        Baby Care   \n",
       "\n",
       "                sub_category  main_category_num  \n",
       "0     Curtains & Accessories                  4  \n",
       "1           Baby Bath & Skin                  0  \n",
       "2           Baby Bath & Skin                  0  \n",
       "3                  Bed Linen                  4  \n",
       "4                  Bed Linen                  4  \n",
       "...                      ...                ...  \n",
       "1045       Baby & Kids Gifts                  0  \n",
       "1046       Baby & Kids Gifts                  0  \n",
       "1047       Baby & Kids Gifts                  0  \n",
       "1048       Baby & Kids Gifts                  0  \n",
       "1049       Baby & Kids Gifts                  0  \n",
       "\n",
       "[1050 rows x 9 columns]"
      ]
     },
     "execution_count": 20,
     "metadata": {},
     "output_type": "execute_result"
    }
   ],
   "source": [
    "label_encoder = preprocessing.LabelEncoder()\n",
    "label_encoder .fit(df_process['main_category'])\n",
    "df_process['main_category_num']=label_encoder.transform(df_process['main_category'])\n",
    "df_process"
   ]
  },
  {
   "cell_type": "code",
   "execution_count": 21,
   "id": "a9d54d08",
   "metadata": {},
   "outputs": [
    {
     "data": {
      "text/plain": [
       "Text(0.5, 1.0, 'Data Distribution')"
      ]
     },
     "execution_count": 21,
     "metadata": {},
     "output_type": "execute_result"
    },
    {
     "data": {
      "image/png": "[encoded data removed]",
      "text/plain": [
       "<Figure size 640x480 with 1 Axes>"
      ]
     },
     "metadata": {},
     "output_type": "display_data"
    }
   ],
   "source": [
    "countplot(x='main_category_num',data=df_process).set_title(\"Data Distribution\")"
   ]
  },
  {
   "cell_type": "markdown",
   "id": "56f52233",
   "metadata": {},
   "source": [
    "# Création du dataframe avec les données nettoyées"
   ]
  },
  {
   "cell_type": "code",
   "execution_count": 22,
   "id": "329bae60",
   "metadata": {
    "scrolled": true
   },
   "outputs": [
    {
     "data": {
      "text/html": [
       "<div>\n",
       "<style scoped>\n",
       "    .dataframe tbody tr th:only-of-type {\n",
       "        vertical-align: middle;\n",
       "    }\n",
       "\n",
       "    .dataframe tbody tr th {\n",
       "        vertical-align: top;\n",
       "    }\n",
       "\n",
       "    .dataframe thead th {\n",
       "        text-align: right;\n",
       "    }\n",
       "</style>\n",
       "<table border=\"1\" class=\"dataframe\">\n",
       "  <thead>\n",
       "    <tr style=\"text-align: right;\">\n",
       "      <th></th>\n",
       "      <th>uniq_id</th>\n",
       "      <th>product_name_clean</th>\n",
       "      <th>description_clean</th>\n",
       "      <th>main_category</th>\n",
       "      <th>main_category_num</th>\n",
       "    </tr>\n",
       "  </thead>\n",
       "  <tbody>\n",
       "    <tr>\n",
       "      <th>0</th>\n",
       "      <td>55b85ea15a1536d46b7190ad6fff8ce7</td>\n",
       "      <td>elegance polyester multicolor abstract eyelet ...</td>\n",
       "      <td>key feature elegance polyester multicolor abst...</td>\n",
       "      <td>Home Furnishing</td>\n",
       "      <td>4</td>\n",
       "    </tr>\n",
       "    <tr>\n",
       "      <th>1</th>\n",
       "      <td>7b72c92c2f6c40268628ec5f14c6d590</td>\n",
       "      <td>sathiyas cotton bath towel</td>\n",
       "      <td>specification cotton bath towel bath towel red...</td>\n",
       "      <td>Baby Care</td>\n",
       "      <td>0</td>\n",
       "    </tr>\n",
       "    <tr>\n",
       "      <th>2</th>\n",
       "      <td>64d5d4a258243731dc7bbb1eef49ad74</td>\n",
       "      <td>eurospa cotton terry face towel set</td>\n",
       "      <td>key feature cotton terry face towel set size s...</td>\n",
       "      <td>Baby Care</td>\n",
       "      <td>0</td>\n",
       "    </tr>\n",
       "    <tr>\n",
       "      <th>3</th>\n",
       "      <td>d4684dcdc759dd9cdf41504698d737d8</td>\n",
       "      <td>santosh royal fashion cotton printed king size...</td>\n",
       "      <td>key feature royal fashion cotton printed king ...</td>\n",
       "      <td>Home Furnishing</td>\n",
       "      <td>4</td>\n",
       "    </tr>\n",
       "    <tr>\n",
       "      <th>4</th>\n",
       "      <td>6325b6870c54cd47be6ebfbffa620ec7</td>\n",
       "      <td>jaipur print cotton floral king sized double b...</td>\n",
       "      <td>key feature print cotton floral king sized dou...</td>\n",
       "      <td>Home Furnishing</td>\n",
       "      <td>4</td>\n",
       "    </tr>\n",
       "    <tr>\n",
       "      <th>...</th>\n",
       "      <td>...</td>\n",
       "      <td>...</td>\n",
       "      <td>...</td>\n",
       "      <td>...</td>\n",
       "      <td>...</td>\n",
       "    </tr>\n",
       "    <tr>\n",
       "      <th>1045</th>\n",
       "      <td>958f54f4c46b53c8a0a9b8167d9140bc</td>\n",
       "      <td>oren empower extra large self adhesive sticker</td>\n",
       "      <td>empower extra large self adhesive sticker pack...</td>\n",
       "      <td>Baby Care</td>\n",
       "      <td>0</td>\n",
       "    </tr>\n",
       "    <tr>\n",
       "      <th>1046</th>\n",
       "      <td>fd6cbcc22efb6b761bd564c28928483c</td>\n",
       "      <td>wallmantra large vinyl sticker sticker</td>\n",
       "      <td>large vinyl sticker sticker pack price  bring ...</td>\n",
       "      <td>Baby Care</td>\n",
       "      <td>0</td>\n",
       "    </tr>\n",
       "    <tr>\n",
       "      <th>1047</th>\n",
       "      <td>5912e037d12774bb73a2048f35a00009</td>\n",
       "      <td>uberlyfe extra large pigmented polyvinyl film ...</td>\n",
       "      <td>buy extra large polyvinyl film sticker  extra ...</td>\n",
       "      <td>Baby Care</td>\n",
       "      <td>0</td>\n",
       "    </tr>\n",
       "    <tr>\n",
       "      <th>1048</th>\n",
       "      <td>c3edc504d1b4f0ba6224fa53a43a7ad6</td>\n",
       "      <td>wallmantra medium vinyl sticker sticker</td>\n",
       "      <td>buy medium vinyl sticker sticker  medium vinyl...</td>\n",
       "      <td>Baby Care</td>\n",
       "      <td>0</td>\n",
       "    </tr>\n",
       "    <tr>\n",
       "      <th>1049</th>\n",
       "      <td>f2f027ad6a6df617c9f125173da71e44</td>\n",
       "      <td>uberlyfe large vinyl sticker</td>\n",
       "      <td>buy large vinyl sticker  large vinyl sticker b...</td>\n",
       "      <td>Baby Care</td>\n",
       "      <td>0</td>\n",
       "    </tr>\n",
       "  </tbody>\n",
       "</table>\n",
       "<p>1050 rows × 5 columns</p>\n",
       "</div>"
      ],
      "text/plain": [
       "                               uniq_id  \\\n",
       "0     55b85ea15a1536d46b7190ad6fff8ce7   \n",
       "1     7b72c92c2f6c40268628ec5f14c6d590   \n",
       "2     64d5d4a258243731dc7bbb1eef49ad74   \n",
       "3     d4684dcdc759dd9cdf41504698d737d8   \n",
       "4     6325b6870c54cd47be6ebfbffa620ec7   \n",
       "...                                ...   \n",
       "1045  958f54f4c46b53c8a0a9b8167d9140bc   \n",
       "1046  fd6cbcc22efb6b761bd564c28928483c   \n",
       "1047  5912e037d12774bb73a2048f35a00009   \n",
       "1048  c3edc504d1b4f0ba6224fa53a43a7ad6   \n",
       "1049  f2f027ad6a6df617c9f125173da71e44   \n",
       "\n",
       "                                     product_name_clean  \\\n",
       "0     elegance polyester multicolor abstract eyelet ...   \n",
       "1                            sathiyas cotton bath towel   \n",
       "2                   eurospa cotton terry face towel set   \n",
       "3     santosh royal fashion cotton printed king size...   \n",
       "4     jaipur print cotton floral king sized double b...   \n",
       "...                                                 ...   \n",
       "1045     oren empower extra large self adhesive sticker   \n",
       "1046             wallmantra large vinyl sticker sticker   \n",
       "1047  uberlyfe extra large pigmented polyvinyl film ...   \n",
       "1048            wallmantra medium vinyl sticker sticker   \n",
       "1049                       uberlyfe large vinyl sticker   \n",
       "\n",
       "                                      description_clean    main_category  \\\n",
       "0     key feature elegance polyester multicolor abst...  Home Furnishing   \n",
       "1     specification cotton bath towel bath towel red...        Baby Care   \n",
       "2     key feature cotton terry face towel set size s...        Baby Care   \n",
       "3     key feature royal fashion cotton printed king ...  Home Furnishing   \n",
       "4     key feature print cotton floral king sized dou...  Home Furnishing   \n",
       "...                                                 ...              ...   \n",
       "1045  empower extra large self adhesive sticker pack...        Baby Care   \n",
       "1046  large vinyl sticker sticker pack price  bring ...        Baby Care   \n",
       "1047  buy extra large polyvinyl film sticker  extra ...        Baby Care   \n",
       "1048  buy medium vinyl sticker sticker  medium vinyl...        Baby Care   \n",
       "1049  buy large vinyl sticker  large vinyl sticker b...        Baby Care   \n",
       "\n",
       "      main_category_num  \n",
       "0                     4  \n",
       "1                     0  \n",
       "2                     0  \n",
       "3                     4  \n",
       "4                     4  \n",
       "...                 ...  \n",
       "1045                  0  \n",
       "1046                  0  \n",
       "1047                  0  \n",
       "1048                  0  \n",
       "1049                  0  \n",
       "\n",
       "[1050 rows x 5 columns]"
      ]
     },
     "execution_count": 22,
     "metadata": {},
     "output_type": "execute_result"
    }
   ],
   "source": [
    "df_clean_text = df_process[['uniq_id','product_name_clean','description_clean','main_category','main_category_num' ]].copy()\n",
    "df_clean_text"
   ]
  },
  {
   "cell_type": "code",
   "execution_count": 23,
   "id": "f4c6cea0",
   "metadata": {},
   "outputs": [
    {
     "data": {
      "text/plain": [
       "'key feature elegance polyester multicolor abstract eyelet door curtain floral polyester multicolor abstract eyelet door curtain height pack price  curtain look curtain made high quality polyester feature eyelet style stitch metal make room environment romantic curtain ant wrinkle anti shrinkage elegant home bright modernistic appeal design attention sure steal heart contemporary eyelet valance curtain slide smoothly draw apart first thing morning welcome bright sun ray want wish good morning whole world draw close evening create special moment joyous beauty given soothing print bring home elegant curtain softly filter light room get right amount elegance polyester multicolor abstract eyelet door curtain height pack general brand elegance designed door type eyelet model name abstract polyester door curtain set model  duster color multicolor dimension length box number content sale package pack sale package curtain body design material polyesterelegance polyester multicolor abstract eyelet door curtain'"
      ]
     },
     "execution_count": 23,
     "metadata": {},
     "output_type": "execute_result"
    }
   ],
   "source": [
    "# J'ajoute une colonne qui ajoute description_clean et product_name_clean pour obtenir plus d'infos en une colonne\n",
    "df_clean_text['description_name'] = df_clean_text.description_clean + df_clean_text.product_name_clean\n",
    "df_clean_text.description_name[0]"
   ]
  },
  {
   "cell_type": "code",
   "execution_count": 24,
   "id": "be175430",
   "metadata": {},
   "outputs": [],
   "source": [
    "df_clean_text.to_csv('./csv/test_clean.csv')"
   ]
  }
 ],
 "metadata": {
  "kernelspec": {
   "display_name": "Python 3 (ipykernel)",
   "language": "python",
   "name": "python3"
  },
  "language_info": {
   "codemirror_mode": {
    "name": "ipython",
    "version": 3
   },
   "file_extension": ".py",
   "mimetype": "text/x-python",
   "name": "python",
   "nbconvert_exporter": "python",
   "pygments_lexer": "ipython3",
   "version": "3.10.9"
  }
 },
 "nbformat": 4,
 "nbformat_minor": 5
}
