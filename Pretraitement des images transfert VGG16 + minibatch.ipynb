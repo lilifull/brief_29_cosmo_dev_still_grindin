{
 "cells": [
  {
   "cell_type": "markdown",
   "id": "0f6de975",
   "metadata": {},
   "source": [
    "# Prétraitement des images "
   ]
  },
  {
   "cell_type": "code",
   "execution_count": null,
   "id": "ff17e320",
   "metadata": {},
   "outputs": [],
   "source": [
    "import pandas as pd\n",
    "import numpy as np\n",
    "import matplotlib.pyplot as plt\n",
    "import seaborn as sns\n",
    "%matplotlib inline\n",
    "import os\n",
    "from os import listdir\n",
    "from sklearn import preprocessing\n",
    "import cv2\n",
    "import pandas as pd\n",
    "import matplotlib.pyplot as plt\n",
    "import time\n",
    "from sklearn.model_selection import train_test_split\n",
    "import pandas as pd\n",
    "import numpy as np\n",
    "from keras.applications import VGG16\n",
    "from tensorflow.keras.preprocessing.image import load_img, img_to_array\n",
    "from keras.models import Model"
   ]
  },
  {
   "cell_type": "markdown",
   "id": "af7ad232",
   "metadata": {},
   "source": [
    "## Import du dataset"
   ]
  },
  {
   "cell_type": "code",
   "execution_count": null,
   "id": "6c8ff45b",
   "metadata": {},
   "outputs": [],
   "source": [
    "path = \"./Images_redim/\"\n",
    "list_photos = [file for file in listdir(path)]\n",
    "print(len(list_photos))\n",
    "list_photos[0]"
   ]
  },
  {
   "cell_type": "code",
   "execution_count": null,
   "id": "a70f6598",
   "metadata": {},
   "outputs": [],
   "source": [
    "# Chargement du dataframe avec l'id du produit et sa catégorie\n",
    "df = pd.read_csv('cleaned.csv')\n",
    "df.head(2)"
   ]
  },
  {
   "cell_type": "code",
   "execution_count": null,
   "id": "3b05565b",
   "metadata": {},
   "outputs": [],
   "source": [
    "# définir une fonction lambda pour extraire la catégorie principale\n",
    "extract_category = lambda x: x.split(\">>\")[0].strip().strip('][\"')\n",
    "\n",
    "# appliquer la fonction à la colonne 'product_category_tree' du DataFrame\n",
    "df[\"label_name\"] = df['product_category_tree'].apply(extract_category)\n",
    "df[\"label_name\"][0]"
   ]
  },
  {
   "cell_type": "code",
   "execution_count": null,
   "id": "7249517d",
   "metadata": {},
   "outputs": [],
   "source": [
    "label_encoder = preprocessing.LabelEncoder()\n",
    "label_encoder .fit(df[\"label_name\"])\n",
    "df['category']=label_encoder.transform(df[\"label_name\"])\n",
    "df['category'][0:3]"
   ]
  },
  {
   "cell_type": "code",
   "execution_count": null,
   "id": "51c5fdc6",
   "metadata": {},
   "outputs": [],
   "source": [
    "df['filename'] = df.uniq_id + '.jpg'\n",
    "df.head(3)"
   ]
  },
  {
   "cell_type": "code",
   "execution_count": null,
   "id": "51b8c3f5",
   "metadata": {},
   "outputs": [],
   "source": [
    "df.columns"
   ]
  },
  {
   "cell_type": "code",
   "execution_count": null,
   "id": "2f770615",
   "metadata": {},
   "outputs": [],
   "source": [
    "df_image = df[['filename', 'category', 'label_name']].copy()\n",
    "df_image"
   ]
  },
  {
   "cell_type": "code",
   "execution_count": null,
   "id": "e639c947",
   "metadata": {},
   "outputs": [],
   "source": [
    "sns.countplot(x='category',data=df_image).set_title(\"Data Distribution\")"
   ]
  },
  {
   "cell_type": "code",
   "execution_count": null,
   "id": "3b1b31f0",
   "metadata": {},
   "outputs": [],
   "source": [
    "df_image[\"file_path\"] = path + df_image[\"filename\"]\n",
    "df_image"
   ]
  },
  {
   "cell_type": "code",
   "execution_count": null,
   "id": "c303bc6e",
   "metadata": {},
   "outputs": [],
   "source": [
    "import pandas as pd\n",
    "import numpy as np\n",
    "from keras.applications import VGG16\n",
    "from keras.preprocessing.image import ImageDataGenerator\n",
    "\n",
    "# Chargement du modèle pré-entrainé VGG16\n",
    "vgg16_model = VGG16(weights='imagenet', include_top=False, input_shape=(800, 800, 3))\n",
    "\n",
    "# Définition de la taille du mini-batch\n",
    "batch_size = 32\n",
    "\n",
    "# Préparation du générateur d'images\n",
    "datagen = ImageDataGenerator(rescale=1./255)\n",
    "\n",
    "\n",
    "# Définition du générateur de features\n",
    "generator = datagen.flow_from_dataframe(\n",
    "    df_image,\n",
    "    directory=path,\n",
    "    x_col='filename',\n",
    "    y_col='label_name',\n",
    "    batch_size=batch_size,\n",
    "    shuffle=False,\n",
    "    class_mode=\"categorical\",\n",
    "    target_size=(800, 800)\n",
    ")\n",
    "\n",
    "# Extraction des features pour chaque mini-batch\n",
    "features = vgg16_model.predict(generator, verbose=1)\n",
    "\n",
    "# Redimensionnement des features et ajout au dataframe\n",
    "features = features.reshape((features.shape[0], -1))\n",
    "df_features = pd.DataFrame(features)\n",
    "df_features.columns = ['feature_' + str(i) for i in range(df_features.shape[1])]\n",
    "df_with_features = pd.concat([df_image, df_features], axis=1)\n",
    "\n",
    "# Enregistrement des données avec les features\n",
    "df_with_features.to_csv('data_with_features.csv', index=False)"
   ]
  },
  {
   "cell_type": "code",
   "execution_count": null,
   "id": "d22d7ebb",
   "metadata": {},
   "outputs": [],
   "source": []
  }
 ],
 "metadata": {
  "kernelspec": {
   "display_name": "Python 3 (ipykernel)",
   "language": "python",
   "name": "python3"
  },
  "language_info": {
   "codemirror_mode": {
    "name": "ipython",
    "version": 3
   },
   "file_extension": ".py",
   "mimetype": "text/x-python",
   "name": "python",
   "nbconvert_exporter": "python",
   "pygments_lexer": "ipython3",
   "version": "3.10.9"
  }
 },
 "nbformat": 4,
 "nbformat_minor": 5
}
